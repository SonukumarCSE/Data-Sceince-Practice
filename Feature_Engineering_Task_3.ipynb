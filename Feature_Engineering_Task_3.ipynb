{
  "nbformat": 4,
  "nbformat_minor": 0,
  "metadata": {
    "colab": {
      "provenance": []
    },
    "kernelspec": {
      "name": "python3",
      "display_name": "Python 3"
    },
    "language_info": {
      "name": "python"
    }
  },
  "cells": [
    {
      "cell_type": "code",
      "source": [
        "# Q1. What is data encoding? How is it useful in data science?"
      ],
      "metadata": {
        "id": "O_zDWmo7XKzg"
      },
      "execution_count": null,
      "outputs": []
    },
    {
      "cell_type": "markdown",
      "source": [
        "Data encoding is the process to convert the categorical data into numeric to train the model. because numerical value more easily understandlable and recognisable for the model and we can do the operation easily\n"
      ],
      "metadata": {
        "id": "XmHIhs6AXMJo"
      }
    },
    {
      "cell_type": "code",
      "source": [
        "# Q2. What is nominal encoding? Provide an example of how you would use it in a real-world scenario."
      ],
      "metadata": {
        "id": "88f5En71Xc7i"
      },
      "execution_count": null,
      "outputs": []
    },
    {
      "cell_type": "markdown",
      "source": [
        "nominal (one hot encoding ) is the technique to convert the categorical data into binary (0) or (1) and it will bifarcate all the different type of value present in the column and it will make the sparse matrix to store the value\n",
        "\n",
        "location         Bangalore       delhi         noida\n",
        "\n",
        "Bangalore          1              0             0\n",
        "delhi              0              1             0\n",
        "noida              0              0             1\n",
        "bangalore          1              0             0\n",
        "delhi              0              1             0\n",
        "noida              0              0             1"
      ],
      "metadata": {
        "id": "S0pCbY94Xgfq"
      }
    },
    {
      "cell_type": "code",
      "source": [
        "# Q3. In what situations is nominal encoding preferred over one-hot encoding? Provide a practical example."
      ],
      "metadata": {
        "id": "uGhKO6v6YN6V"
      },
      "execution_count": null,
      "outputs": []
    },
    {
      "cell_type": "markdown",
      "source": [
        "nominal encoding is often used for high-cardinality categorical features to reduce dimensionality and improve computational efficiency."
      ],
      "metadata": {
        "id": "VpJNs3NlYUP5"
      }
    },
    {
      "cell_type": "code",
      "source": [
        "# Q4. Suppose you have a dataset containing categorical data with 5 unique values. Which encoding\n",
        "# technique would you use to transform this data into a format suitable for machine learning algorithms?\n",
        "# Explain why you made this choice."
      ],
      "metadata": {
        "id": "c8lFcfdiZWZr"
      },
      "execution_count": null,
      "outputs": []
    },
    {
      "cell_type": "markdown",
      "source": [
        "one hot encoding will be the best for this because unique element size is less and it will be easy to understand and do some operation."
      ],
      "metadata": {
        "id": "XcyLXj5-ZY-k"
      }
    },
    {
      "cell_type": "code",
      "source": [
        "# Q5. In a machine learning project, you have a dataset with 1000 rows and 5 columns. Two of the columns\n",
        "# are categorical, and the remaining three columns are numerical. If you were to use nominal encoding to\n",
        "# transform the categorical data, how many new columns would be created? Show your calculations."
      ],
      "metadata": {
        "id": "1e11hwhnZnjN"
      },
      "execution_count": null,
      "outputs": []
    },
    {
      "cell_type": "markdown",
      "source": [
        "it will depend on the number of unique value present in the column if the number is less then we go for the one hot encoding and for large unique value we can not choose one hot encoding in that case we will use nominal encoding, in that no new column is added just we convert the categorical data into numerical as per the rank of uniqueness.\n",
        "if we do one hot encoding for the less data we will create column that will be equal to number of unique value in table."
      ],
      "metadata": {
        "id": "XUBVKfwwafDA"
      }
    },
    {
      "cell_type": "code",
      "source": [
        "# Q6. You are working with a dataset containing information about different types of animals, including their\n",
        "# species, habitat, and diet. Which encoding technique would you use to transform the categorical data into\n",
        "# a format suitable for machine learning algorithms? Justify your answer."
      ],
      "metadata": {
        "id": "PxKqdsVhbAo7"
      },
      "execution_count": 1,
      "outputs": []
    },
    {
      "cell_type": "markdown",
      "source": [
        "in this situation we can encounter a large number of unique value so best thing to use nominal encoding in this situation.\n",
        "\n",
        "and if the unique value is less then we can use nominal encoding techniques to do this."
      ],
      "metadata": {
        "id": "jnrHtZthbGLy"
      }
    },
    {
      "cell_type": "code",
      "source": [
        "# Q7.You are working on a project that involves predicting customer churn for a telecommunications\n",
        "# company. You have a dataset with 5 features, including the customer's gender, age, contract type,\n",
        "# monthly charges, and tenure. Which encoding technique(s) would you use to transform the categorical\n",
        "# data into numerical data? Provide a step-by-step explanation of how you would implement the encoding."
      ],
      "metadata": {
        "id": "eJZL97_dbFWP"
      },
      "execution_count": null,
      "outputs": []
    },
    {
      "cell_type": "markdown",
      "source": [
        "in this different type of column is used and for the different type of column we will use different technique for encoding\n",
        "\n",
        "customer gender - one hot encoding (only two unique value mostly)\n",
        "age - it is numerical value no need to encode\n",
        "contract type - it can also done with one hot encoding if the unique value is large then in that condition go for the nominal encoding\n",
        "\n",
        "monthly charge - it is also the numerical value so no need to encode\n",
        "tenure - it is also in numerical\n"
      ],
      "metadata": {
        "id": "YoPdq1sTcJKb"
      }
    },
    {
      "cell_type": "code",
      "source": [],
      "metadata": {
        "id": "FO9hy0tIc8pK"
      },
      "execution_count": null,
      "outputs": []
    }
  ]
}