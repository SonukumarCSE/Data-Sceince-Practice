{
  "nbformat": 4,
  "nbformat_minor": 0,
  "metadata": {
    "colab": {
      "provenance": []
    },
    "kernelspec": {
      "name": "python3",
      "display_name": "Python 3"
    },
    "language_info": {
      "name": "python"
    }
  },
  "cells": [
    {
      "cell_type": "markdown",
      "source": [
        "1. Define overfitting and underfitting in machine learning. What are the consequences of each, and how\n",
        "can they be mitigated?"
      ],
      "metadata": {
        "id": "aH1SIZhQoyic"
      }
    },
    {
      "cell_type": "code",
      "source": [],
      "metadata": {
        "id": "d12UmdrLo1Ez"
      },
      "execution_count": null,
      "outputs": []
    },
    {
      "cell_type": "markdown",
      "source": [
        "overfitting is the case where training of the model is done very well and the accuracy score is also high but when we test on testing data the accuracy score came less.\n",
        "the consequences are low bias high variance\n",
        "\n",
        "\n",
        "\n",
        "underfitting is the case where training of the model is not done very well and the accuracy score is also low, and when we test on the testing data the accuracy score is low.\n",
        "the consequences are high bias high variance"
      ],
      "metadata": {
        "id": "2z3Dzw95o5dr"
      }
    },
    {
      "cell_type": "code",
      "source": [
        "# Q2: How can we reduce overfitting? Explain in brief."
      ],
      "metadata": {
        "id": "MR24efIlpKaG"
      },
      "execution_count": null,
      "outputs": []
    },
    {
      "cell_type": "code",
      "source": [],
      "metadata": {
        "id": "xua0NeEzxEPk"
      },
      "execution_count": null,
      "outputs": []
    },
    {
      "cell_type": "markdown",
      "source": [
        "1. using more data\n",
        "2. reduce the layer of neural network\n",
        "3. early stopping  - Monitor the model’s performance on a validation set during training. Stop training when the performance on the validation set starts to degrade, indicating the model might be overfitting.\n",
        "4. bias variance tradeoff\n",
        "5. use dropout  -  In neural networks, dropout is a technique where randomly selected neurons are ignored during training, which helps in making the model more robust and prevents it from learning noise.\n"
      ],
      "metadata": {
        "id": "P1sKMWjpxbE-"
      }
    },
    {
      "cell_type": "code",
      "source": [
        "# 3. Explain underfitting. List scenarios where underfitting can occur in ML."
      ],
      "metadata": {
        "id": "EJ5E8UxxxqUT"
      },
      "execution_count": null,
      "outputs": []
    },
    {
      "cell_type": "markdown",
      "source": [
        "underfitting is the case where the training the model on train dataset is very low and the accuracy score is also low, when we go for the testing the model on the training dataset, the accuracy comes is also low this case cause the underfitting.\n",
        "\n",
        "its consequences are high bias high variance\n",
        "\n",
        "\n",
        "Underfitting occurs when a machine learning model is too simple to capture the underlying patterns in the data, leading to poor performance on both the training and test datasets. Essentially, the model fails to learn the relevant relationships and is too rigid to effectively model the data.\n"
      ],
      "metadata": {
        "id": "CIHqReFMyCcc"
      }
    },
    {
      "cell_type": "code",
      "source": [
        "# Q4: Explain the bias-variance tradeoff in machine learning. What is the relationship between bias and\n",
        "# variance, and how do they affect model performance ?"
      ],
      "metadata": {
        "id": "2z15i_--ynLD"
      },
      "execution_count": 1,
      "outputs": []
    },
    {
      "cell_type": "code",
      "source": [],
      "metadata": {
        "id": "x04WHh3lw0wr"
      },
      "execution_count": null,
      "outputs": []
    },
    {
      "cell_type": "markdown",
      "source": [
        "when model is overtrained and the testing score comes low in that case the scenario of low bias and high variance comes, in the underfitting case the high bias and high variance the model is not train properly and testing score is also very low.\n",
        "\n",
        "but for the generalised model that should be our target model, it should be with high accuracy with training dataset and testing dataset both."
      ],
      "metadata": {
        "id": "5HIh3sGNy8V3"
      }
    },
    {
      "cell_type": "code",
      "source": [
        "# Q5: Discuss some common methods for detecting overfitting and underfitting in machine learning models.\n",
        "# How can you determine whether your model is overfitting or underfitting?"
      ],
      "metadata": {
        "id": "wEkObOSizTKh"
      },
      "execution_count": null,
      "outputs": []
    },
    {
      "cell_type": "markdown",
      "source": [
        "when we are training the model and we check the model on the training dataset and testing dataset.\n",
        "\n",
        "we check the bias of the model and the variance of the model and after calculating these two parameter we will determine whether the model is overfitting , underfitting\n",
        "\n",
        "low bias and high variance -> overfitting\n",
        "high bias and high variance -> underfitting"
      ],
      "metadata": {
        "id": "HFlMimH7zrsm"
      }
    },
    {
      "cell_type": "code",
      "source": [
        "# Q6: Compare and contrast bias and variance in machine learning. What are some examples of high bias\n",
        "# and high variance models, and how do they differ in terms of their performance?"
      ],
      "metadata": {
        "id": "3uQODhjczs82"
      },
      "execution_count": null,
      "outputs": []
    },
    {
      "cell_type": "markdown",
      "source": [
        "when the model is with high accuracy then in that case model is with low bias\n",
        "when the model is with low accuracy then in that case model is with high bias\n",
        "\n",
        "and for the variance we check the testing dataset accuracy if accuracy is low then high variance, if the accuracy is hihg then low variance\n",
        "\n",
        "for the good model we need low bias and low variance means it require good accuracy of training dataset and it requires good accuracy of testing dataset"
      ],
      "metadata": {
        "id": "vAWKJVQC0boX"
      }
    },
    {
      "cell_type": "code",
      "source": [
        "# Q7: What is regularization in machine learning, and how can it be used to prevent overfitting? Describe\n",
        "# some common regularization techniques and how they work."
      ],
      "metadata": {
        "id": "h9Nm7kNy1PRA"
      },
      "execution_count": null,
      "outputs": []
    },
    {
      "cell_type": "markdown",
      "source": [
        "regularization is used to reduce the overfitting and underfitting codition and make a general model that should run on all type of dataset."
      ],
      "metadata": {
        "id": "q82WkoCR1aqg"
      }
    }
  ]
}